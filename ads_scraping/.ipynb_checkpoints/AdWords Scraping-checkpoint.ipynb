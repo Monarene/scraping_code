{
 "cells": [
  {
   "cell_type": "code",
   "execution_count": 1,
   "metadata": {},
   "outputs": [
    {
     "name": "stdout",
     "output_type": "stream",
     "text": [
      "Requirement already satisfied: nbconvert in /home/michael/anaconda3/lib/python3.7/site-packages (5.6.0)\n",
      "Requirement already satisfied: jinja2>=2.4 in /home/michael/anaconda3/lib/python3.7/site-packages (from nbconvert) (2.10.3)\n",
      "Requirement already satisfied: entrypoints>=0.2.2 in /home/michael/anaconda3/lib/python3.7/site-packages (from nbconvert) (0.3)\n",
      "Requirement already satisfied: defusedxml in /home/michael/anaconda3/lib/python3.7/site-packages (from nbconvert) (0.6.0)\n",
      "Requirement already satisfied: bleach in /home/michael/anaconda3/lib/python3.7/site-packages (from nbconvert) (3.1.0)\n",
      "Requirement already satisfied: mistune<2,>=0.8.1 in /home/michael/anaconda3/lib/python3.7/site-packages (from nbconvert) (0.8.4)\n",
      "Requirement already satisfied: traitlets>=4.2 in /home/michael/anaconda3/lib/python3.7/site-packages (from nbconvert) (4.3.3)\n",
      "Requirement already satisfied: pandocfilters>=1.4.1 in /home/michael/anaconda3/lib/python3.7/site-packages (from nbconvert) (1.4.2)\n",
      "Requirement already satisfied: nbformat>=4.4 in /home/michael/anaconda3/lib/python3.7/site-packages (from nbconvert) (4.4.0)\n",
      "Requirement already satisfied: testpath in /home/michael/anaconda3/lib/python3.7/site-packages (from nbconvert) (0.4.2)\n",
      "Requirement already satisfied: pygments in /home/michael/anaconda3/lib/python3.7/site-packages (from nbconvert) (2.4.2)\n",
      "Requirement already satisfied: jupyter-core in /home/michael/anaconda3/lib/python3.7/site-packages (from nbconvert) (4.5.0)\n",
      "Requirement already satisfied: MarkupSafe>=0.23 in /home/michael/anaconda3/lib/python3.7/site-packages (from jinja2>=2.4->nbconvert) (1.1.1)\n",
      "Requirement already satisfied: six>=1.9.0 in /home/michael/anaconda3/lib/python3.7/site-packages (from bleach->nbconvert) (1.12.0)\n",
      "Requirement already satisfied: webencodings in /home/michael/anaconda3/lib/python3.7/site-packages (from bleach->nbconvert) (0.5.1)\n",
      "Requirement already satisfied: decorator in /home/michael/anaconda3/lib/python3.7/site-packages (from traitlets>=4.2->nbconvert) (4.4.0)\n",
      "Requirement already satisfied: ipython-genutils in /home/michael/anaconda3/lib/python3.7/site-packages (from traitlets>=4.2->nbconvert) (0.2.0)\n",
      "Requirement already satisfied: jsonschema!=2.5.0,>=2.4 in /home/michael/anaconda3/lib/python3.7/site-packages (from nbformat>=4.4->nbconvert) (3.0.2)\n",
      "Requirement already satisfied: pyrsistent>=0.14.0 in /home/michael/anaconda3/lib/python3.7/site-packages (from jsonschema!=2.5.0,>=2.4->nbformat>=4.4->nbconvert) (0.15.4)\n",
      "Requirement already satisfied: setuptools in /home/michael/anaconda3/lib/python3.7/site-packages (from jsonschema!=2.5.0,>=2.4->nbformat>=4.4->nbconvert) (41.4.0)\n",
      "Requirement already satisfied: attrs>=17.4.0 in /home/michael/anaconda3/lib/python3.7/site-packages (from jsonschema!=2.5.0,>=2.4->nbformat>=4.4->nbconvert) (19.2.0)\n"
     ]
    }
   ],
   "source": [
    "#downloading the necessary packages needed\n",
    "import sys\n",
    "!{sys.executable} -m pip install nbconvert"
   ]
  },
  {
   "cell_type": "code",
   "execution_count": 2,
   "metadata": {},
   "outputs": [],
   "source": [
    "#importing the necessary libraries\n",
    "from requests import get\n",
    "from bs4 import BeautifulSoup"
   ]
  },
  {
   "cell_type": "code",
   "execution_count": 3,
   "metadata": {},
   "outputs": [
    {
     "data": {
      "text/plain": [
       "11"
      ]
     },
     "execution_count": 3,
     "metadata": {},
     "output_type": "execute_result"
    }
   ],
   "source": [
    "#preparing for scraping \n",
    "car_names = ['Audi', 'BMW', 'Bentley','Ferrari','Land-Rover','MINI','Mercedes-Benz', 'Peugeot','Porsche','Volkswagen','Volvo']\n",
    "len(car_names)"
   ]
  },
  {
   "cell_type": "code",
   "execution_count": 4,
   "metadata": {},
   "outputs": [
    {
     "name": "stdout",
     "output_type": "stream",
     "text": [
      "<!doctype html>\r\n",
      "<html lang=\"en-GB\" class=\"no-js\">\r\n",
      "<head>\r\n",
      "    <meta charset=\"UTF-8\">\r\n",
      "    <title>W\n"
     ]
    }
   ],
   "source": [
    "url = \"https://weckautos.com/wide-fullwidth/?yr%5B%5D=&yr%5B%5D=&make=audi&price%5B%5D=&price%5B%5D=\"\n",
    "response = get(url)\n",
    "print(response.text[:100])"
   ]
  },
  {
   "cell_type": "code",
   "execution_count": 5,
   "metadata": {},
   "outputs": [
    {
     "data": {
      "text/plain": [
       "bs4.BeautifulSoup"
      ]
     },
     "execution_count": 5,
     "metadata": {},
     "output_type": "execute_result"
    }
   ],
   "source": [
    "#parsing the html\n",
    "html_text = BeautifulSoup(response.text, 'html.parser')\n",
    "type(html_text)"
   ]
  },
  {
   "cell_type": "code",
   "execution_count": 7,
   "metadata": {},
   "outputs": [
    {
     "data": {
      "text/plain": [
       "22"
      ]
     },
     "execution_count": 7,
     "metadata": {},
     "output_type": "execute_result"
    }
   ],
   "source": [
    "#find all cars with the listing audi\n",
    "audi_containers = html_text.find_all('div', class_ = 'inventory clearfix margin-bottom-20 styled_input')\n",
    "len(audi_containers)\n"
   ]
  },
  {
   "cell_type": "code",
   "execution_count": 8,
   "metadata": {},
   "outputs": [
    {
     "data": {
      "text/plain": [
       "'Audi R8 V10 plus 5.2 FSI quattro'"
      ]
     },
     "execution_count": 8,
     "metadata": {},
     "output_type": "execute_result"
    }
   ],
   "source": [
    "#getting the text\n",
    "first_container = audi_containers[0]\n",
    "text = first_container.find('div', class_ = \"title\").text\n",
    "text"
   ]
  },
  {
   "cell_type": "code",
   "execution_count": 9,
   "metadata": {},
   "outputs": [
    {
     "data": {
      "text/plain": [
       "'https://weckautos.com/wp-content/uploads/2019/09/45-5-13-200x150.jpg'"
      ]
     },
     "execution_count": 9,
     "metadata": {},
     "output_type": "execute_result"
    }
   ],
   "source": [
    "#getting the URL to the imagei\n",
    "image  = first_container.find('img', class_ = 'preview')['src']\n",
    "image"
   ]
  },
  {
   "cell_type": "code",
   "execution_count": 10,
   "metadata": {},
   "outputs": [
    {
     "data": {
      "text/plain": [
       "'https://weckautos.com/listings/audi-r8-v10-plus-5-2-fsi-quattro/'"
      ]
     },
     "execution_count": 10,
     "metadata": {},
     "output_type": "execute_result"
    }
   ],
   "source": [
    "#getting the exact url of the post\n",
    "url_of_post = first_container.find('a', class_ = 'inventory')['href']\n",
    "url_of_post"
   ]
  },
  {
   "cell_type": "code",
   "execution_count": 11,
   "metadata": {},
   "outputs": [
    {
     "data": {
      "text/plain": [
       "'Highlighted by its iconic styling and unusually accessible performance, the 2016 Audi R8 maintains its special status as a midengi [...]'"
      ]
     },
     "execution_count": 11,
     "metadata": {},
     "output_type": "execute_result"
    }
   ],
   "source": [
    "#getting the description of the post\n",
    "desc = first_container.find('p', class_ = 'vehicle_overview').text\n",
    "desc"
   ]
  },
  {
   "cell_type": "code",
   "execution_count": 13,
   "metadata": {},
   "outputs": [
    {
     "ename": "AttributeError",
     "evalue": "ResultSet object has no attribute 'find_all'. You're probably treating a list of items like a single item. Did you call find_all() when you meant to call find()?",
     "output_type": "error",
     "traceback": [
      "\u001b[0;31m---------------------------------------------------------------------------\u001b[0m",
      "\u001b[0;31mAttributeError\u001b[0m                            Traceback (most recent call last)",
      "\u001b[0;32m<ipython-input-13-3eae1e494a58>\u001b[0m in \u001b[0;36m<module>\u001b[0;34m\u001b[0m\n\u001b[0;32m----> 1\u001b[0;31m \u001b[0mtext\u001b[0m \u001b[0;34m=\u001b[0m \u001b[0maudi_containers\u001b[0m\u001b[0;34m.\u001b[0m\u001b[0mfind_all\u001b[0m\u001b[0;34m(\u001b[0m\u001b[0;34m'div'\u001b[0m\u001b[0;34m,\u001b[0m \u001b[0mclass_\u001b[0m \u001b[0;34m=\u001b[0m \u001b[0;34m\"title\"\u001b[0m\u001b[0;34m)\u001b[0m\u001b[0;34m\u001b[0m\u001b[0;34m\u001b[0m\u001b[0m\n\u001b[0m",
      "\u001b[0;32m~/anaconda3/lib/python3.7/site-packages/bs4/element.py\u001b[0m in \u001b[0;36m__getattr__\u001b[0;34m(self, key)\u001b[0m\n\u001b[1;32m   1576\u001b[0m     \u001b[0;32mdef\u001b[0m \u001b[0m__getattr__\u001b[0m\u001b[0;34m(\u001b[0m\u001b[0mself\u001b[0m\u001b[0;34m,\u001b[0m \u001b[0mkey\u001b[0m\u001b[0;34m)\u001b[0m\u001b[0;34m:\u001b[0m\u001b[0;34m\u001b[0m\u001b[0;34m\u001b[0m\u001b[0m\n\u001b[1;32m   1577\u001b[0m         raise AttributeError(\n\u001b[0;32m-> 1578\u001b[0;31m             \u001b[0;34m\"ResultSet object has no attribute '%s'. You're probably treating a list of items like a single item. Did you call find_all() when you meant to call find()?\"\u001b[0m \u001b[0;34m%\u001b[0m \u001b[0mkey\u001b[0m\u001b[0;34m\u001b[0m\u001b[0;34m\u001b[0m\u001b[0m\n\u001b[0m\u001b[1;32m   1579\u001b[0m         )\n",
      "\u001b[0;31mAttributeError\u001b[0m: ResultSet object has no attribute 'find_all'. You're probably treating a list of items like a single item. Did you call find_all() when you meant to call find()?"
     ]
    }
   ],
   "source": [
    "text = html_text.find_all('div', class_ = \"title\")"
   ]
  },
  {
   "cell_type": "code",
   "execution_count": 32,
   "metadata": {},
   "outputs": [
    {
     "data": {
      "text/plain": [
       "dict_keys(['Audi R8 V10 plus 5.2 FSI quattro', 'Audi A8 55TFSI quattro', 'Audi A8 55TFSI', 'Audi A8 55TFSI quattro tiptronic with Massage', 'Audi Q8 55TFSI HDMATRIX', 'Audi Q7 45 TFSI quattro', 'Audi A7 55 TFSI q. 2xS-Line', 'Audi A7 55 TFSI', 'Audi S7 4.0 TFSI quattro S tronic', 'Audi RS 5 Sportback', 'Audi A7 55 TFSI Hybrid quattro S tronic', 'Audi A7 55 TFSI quattro*S line*Led', 'Audi SQ8 TDI Quattro Tiptronic HeadUp', 'Audi R8 V10 Performance', 'Audi R8 V10 plus 5.2 FSI', 'Audi RS7 Spb. 4.0 TFSI DYNAMIK PLUS/HEAD-UP/ACC', 'Audi RS 7 Sportback 4.0 TFSI Perf/KERAMIK', 'Audi RS Q8 qu tiptr Keramik B&O HuD Matrix LED', 'The Audi RS6 4.0 TFSI', 'Audi RS 4 + ABT KERAMIK/PANORAMA/ACC'])"
      ]
     },
     "execution_count": 32,
     "metadata": {},
     "output_type": "execute_result"
    }
   ],
   "source": [
    "#now design the database for the Audis\n",
    "audi_url = \"https://weckautos.com/wide-fullwidth/?yr%5B%5D=&yr%5B%5D=&make=audi&price%5B%5D=&price%5B%5D=\"\n",
    "audi_dataset = {}\n",
    "names_of_cars = []\n",
    "links_to_images = []\n",
    "url_of_car = []\n",
    "desc_of_car = []\n",
    "\n",
    "for container in audi_containers:\n",
    "    \n",
    "    temp_dict = {}\n",
    "    \n",
    "    #getting their full names\n",
    "    text = container.find('div', class_ = \"title\").text\n",
    "    \n",
    "    #getting the image \n",
    "    image = container.find('img', class_ = 'preview')['src']\n",
    "    temp_dict[\"Image URL\"] = image\n",
    "    \n",
    "    \n",
    "    #getting the url of the car\n",
    "    url = container.find('a', class_ = 'inventory')['href']\n",
    "    temp_dict[\"URL to the car\"] = url\n",
    "    \n",
    "    \n",
    "    #getting the desc of the car\n",
    "    desc = container.find('p', class_ = 'vehicle_overview').text\n",
    "    temp_dict[\"Description of Car\"] = desc\n",
    "    \n",
    "    audi_dataset[text] = temp_dict\n",
    "\n",
    "audi_dataset.keys()"
   ]
  },
  {
   "cell_type": "code",
   "execution_count": 33,
   "metadata": {},
   "outputs": [
    {
     "data": {
      "text/plain": [
       "['Audi',\n",
       " 'BMW',\n",
       " 'Bentley',\n",
       " 'Ferrari',\n",
       " 'Land-Rover',\n",
       " 'MINI',\n",
       " 'Mercedes-Benz',\n",
       " 'Peugeot',\n",
       " 'Porsche',\n",
       " 'Volkswagen',\n",
       " 'Volvo']"
      ]
     },
     "execution_count": 33,
     "metadata": {},
     "output_type": "execute_result"
    }
   ],
   "source": [
    "car_names"
   ]
  },
  {
   "cell_type": "code",
   "execution_count": null,
   "metadata": {},
   "outputs": [],
   "source": []
  },
  {
   "cell_type": "code",
   "execution_count": 22,
   "metadata": {},
   "outputs": [
    {
     "data": {
      "text/plain": [
       "(['https://weckautos.com/listings/audi-r8-v10-plus-5-2-fsi-quattro/',\n",
       "  'https://weckautos.com/listings/audi-a8-55tfsi-quattro/',\n",
       "  'https://weckautos.com/listings/audi-a8-55tfsi/',\n",
       "  'https://weckautos.com/listings/audi-a8-55tfsi-quattro-tiptronic-with-massage/',\n",
       "  'https://weckautos.com/listings/audi-q8-55tfsi-hdmatrix/',\n",
       "  'https://weckautos.com/listings/audi-q7-45-tfsi-quattro/',\n",
       "  'https://weckautos.com/listings/audi-a7-55-tfsi-q-2xs-line/',\n",
       "  'https://weckautos.com/listings/audi-a8-55tfsi-2/',\n",
       "  'https://weckautos.com/listings/audi-a7-55-tfsi/',\n",
       "  'https://weckautos.com/listings/audi-a7-55-tfsi-2/',\n",
       "  'https://weckautos.com/listings/audi-s7-4-0-tfsi-quattro-s-tronic/',\n",
       "  'https://weckautos.com/listings/audi-rs-5-sportback-331/',\n",
       "  'https://weckautos.com/listings/audi-a7-55-tfsi-hybrid-quattro-s-tronic/',\n",
       "  'https://weckautos.com/listings/audi-a7-55-tfsi-quattros-lineled/',\n",
       "  'https://weckautos.com/listings/audi-sq8-tdi-quattro-tiptronic-headup/',\n",
       "  'https://weckautos.com/listings/audi-r8-v10-performance/',\n",
       "  'https://weckautos.com/listings/audi-r8-v10-plus-5-2-fsi/',\n",
       "  'https://weckautos.com/listings/audi-rs7-spb-4-0-tfsi-dynamik-plus-head-up-acc/',\n",
       "  'https://weckautos.com/listings/audi-rs-7-sportback-4-0-tfsi-perf-keramik/',\n",
       "  'https://weckautos.com/listings/audi-rs-q8-qu-tiptr-keramik-bo-hud-matrix-led/',\n",
       "  'https://weckautos.com/listings/audi-new-audi-rs6-4-0-tfsi/',\n",
       "  'https://weckautos.com/listings/audi-rs-4-abt-keramik-panorama-acc/'],\n",
       " 22)"
      ]
     },
     "execution_count": 22,
     "metadata": {},
     "output_type": "execute_result"
    }
   ],
   "source": [
    "#now design the database for the Audis\n",
    "\n",
    "bmw_url = \"https://weckautos.com/wide-fullwidth/?yr%5B%5D=&yr%5B%5D=&make=audi&price%5B%5D=&price%5B%5D=\"\n",
    "bmw_dataset = {}\n",
    "names_of_cars = []\n",
    "links_to_images = []\n",
    "url_of_car = []\n",
    "desc_of_car = []\n",
    "\n",
    "for container in bmw_containers:\n",
    "    \n",
    "    temp_dict = {}\n",
    "    \n",
    "    #getting their full names\n",
    "    text = container.find('div', class_ = \"title\").text\n",
    "    \n",
    "    #getting the image \n",
    "    image = container.find('img', class_ = 'preview')['src']\n",
    "    temp_dict[\"Image URL\"] = image\n",
    "    \n",
    "    \n",
    "    #getting the url of the car\n",
    "    url = container.find('a', class_ = 'inventory')['href']\n",
    "    temp_dict[\"URL to the car\"] = url\n",
    "    \n",
    "    \n",
    "    #getting the desc of the car\n",
    "    desc = container.find('p', class_ = 'vehicle_overview').text\n",
    "    temp_dict[\"Description of Car\"] = desc\n",
    "    \n",
    "    audi_dataset[text] = temp_dict\n",
    "\n",
    "bmw_dataset.keys()"
   ]
  },
  {
   "cell_type": "code",
   "execution_count": null,
   "metadata": {},
   "outputs": [],
   "source": []
  }
 ],
 "metadata": {
  "kernelspec": {
   "display_name": "Python 3",
   "language": "python",
   "name": "python3"
  },
  "language_info": {
   "codemirror_mode": {
    "name": "ipython",
    "version": 3
   },
   "file_extension": ".py",
   "mimetype": "text/x-python",
   "name": "python",
   "nbconvert_exporter": "python",
   "pygments_lexer": "ipython3",
   "version": "3.7.4"
  }
 },
 "nbformat": 4,
 "nbformat_minor": 2
}
