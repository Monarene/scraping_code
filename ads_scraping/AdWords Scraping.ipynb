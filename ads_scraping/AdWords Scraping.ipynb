{
 "cells": [
  {
   "cell_type": "code",
   "execution_count": 1,
   "metadata": {},
   "outputs": [
    {
     "name": "stdout",
     "output_type": "stream",
     "text": [
      "Requirement already satisfied: nbconvert in /home/michael/anaconda3/lib/python3.7/site-packages (5.6.0)\n",
      "Requirement already satisfied: jinja2>=2.4 in /home/michael/anaconda3/lib/python3.7/site-packages (from nbconvert) (2.10.3)\n",
      "Requirement already satisfied: entrypoints>=0.2.2 in /home/michael/anaconda3/lib/python3.7/site-packages (from nbconvert) (0.3)\n",
      "Requirement already satisfied: defusedxml in /home/michael/anaconda3/lib/python3.7/site-packages (from nbconvert) (0.6.0)\n",
      "Requirement already satisfied: bleach in /home/michael/anaconda3/lib/python3.7/site-packages (from nbconvert) (3.1.0)\n",
      "Requirement already satisfied: mistune<2,>=0.8.1 in /home/michael/anaconda3/lib/python3.7/site-packages (from nbconvert) (0.8.4)\n",
      "Requirement already satisfied: traitlets>=4.2 in /home/michael/anaconda3/lib/python3.7/site-packages (from nbconvert) (4.3.3)\n",
      "Requirement already satisfied: pandocfilters>=1.4.1 in /home/michael/anaconda3/lib/python3.7/site-packages (from nbconvert) (1.4.2)\n",
      "Requirement already satisfied: nbformat>=4.4 in /home/michael/anaconda3/lib/python3.7/site-packages (from nbconvert) (4.4.0)\n",
      "Requirement already satisfied: testpath in /home/michael/anaconda3/lib/python3.7/site-packages (from nbconvert) (0.4.2)\n",
      "Requirement already satisfied: pygments in /home/michael/anaconda3/lib/python3.7/site-packages (from nbconvert) (2.4.2)\n",
      "Requirement already satisfied: jupyter-core in /home/michael/anaconda3/lib/python3.7/site-packages (from nbconvert) (4.5.0)\n",
      "Requirement already satisfied: MarkupSafe>=0.23 in /home/michael/anaconda3/lib/python3.7/site-packages (from jinja2>=2.4->nbconvert) (1.1.1)\n",
      "Requirement already satisfied: six>=1.9.0 in /home/michael/anaconda3/lib/python3.7/site-packages (from bleach->nbconvert) (1.12.0)\n",
      "Requirement already satisfied: webencodings in /home/michael/anaconda3/lib/python3.7/site-packages (from bleach->nbconvert) (0.5.1)\n",
      "Requirement already satisfied: decorator in /home/michael/anaconda3/lib/python3.7/site-packages (from traitlets>=4.2->nbconvert) (4.4.0)\n",
      "Requirement already satisfied: ipython-genutils in /home/michael/anaconda3/lib/python3.7/site-packages (from traitlets>=4.2->nbconvert) (0.2.0)\n",
      "Requirement already satisfied: jsonschema!=2.5.0,>=2.4 in /home/michael/anaconda3/lib/python3.7/site-packages (from nbformat>=4.4->nbconvert) (3.0.2)\n",
      "Requirement already satisfied: pyrsistent>=0.14.0 in /home/michael/anaconda3/lib/python3.7/site-packages (from jsonschema!=2.5.0,>=2.4->nbformat>=4.4->nbconvert) (0.15.4)\n",
      "Requirement already satisfied: setuptools in /home/michael/anaconda3/lib/python3.7/site-packages (from jsonschema!=2.5.0,>=2.4->nbformat>=4.4->nbconvert) (41.4.0)\n",
      "Requirement already satisfied: attrs>=17.4.0 in /home/michael/anaconda3/lib/python3.7/site-packages (from jsonschema!=2.5.0,>=2.4->nbformat>=4.4->nbconvert) (19.2.0)\n"
     ]
    }
   ],
   "source": [
    "#downloading the necessary packages needed\n",
    "import sys\n",
    "!{sys.executable} -m pip install nbconvert"
   ]
  },
  {
   "cell_type": "code",
   "execution_count": 10,
   "metadata": {},
   "outputs": [],
   "source": [
    "#importing the necessary libraries\n",
    "from requests import get\n",
    "from bs4 import BeautifulSoup\n",
    "import json"
   ]
  },
  {
   "cell_type": "code",
   "execution_count": 3,
   "metadata": {},
   "outputs": [
    {
     "data": {
      "text/plain": [
       "11"
      ]
     },
     "execution_count": 3,
     "metadata": {},
     "output_type": "execute_result"
    }
   ],
   "source": [
    "#preparing for scraping \n",
    "car_names = ['Audi', 'BMW', 'Bentley','Ferrari','Land-Rover','MINI','Mercedes-Benz', 'Peugeot','Porsche','Volkswagen','Volvo']\n",
    "len(car_names)"
   ]
  },
  {
   "cell_type": "code",
   "execution_count": 4,
   "metadata": {},
   "outputs": [
    {
     "name": "stdout",
     "output_type": "stream",
     "text": [
      "<!doctype html>\r\n",
      "<html lang=\"en-GB\" class=\"no-js\">\r\n",
      "<head>\r\n",
      "    <meta charset=\"UTF-8\">\r\n",
      "    <title>W\n"
     ]
    }
   ],
   "source": [
    "url = \"https://weckautos.com/wide-fullwidth/?yr%5B%5D=&yr%5B%5D=&make=audi&price%5B%5D=&price%5B%5D=\"\n",
    "response = get(url)\n",
    "print(response.text[:100])"
   ]
  },
  {
   "cell_type": "code",
   "execution_count": 5,
   "metadata": {},
   "outputs": [
    {
     "data": {
      "text/plain": [
       "bs4.BeautifulSoup"
      ]
     },
     "execution_count": 5,
     "metadata": {},
     "output_type": "execute_result"
    }
   ],
   "source": [
    "#parsing the html\n",
    "html_text = BeautifulSoup(response.text, 'html.parser')\n",
    "type(html_text)"
   ]
  },
  {
   "cell_type": "code",
   "execution_count": 7,
   "metadata": {},
   "outputs": [
    {
     "data": {
      "text/plain": [
       "22"
      ]
     },
     "execution_count": 7,
     "metadata": {},
     "output_type": "execute_result"
    }
   ],
   "source": [
    "#find all cars with the listing audi\n",
    "audi_containers = html_text.find_all('div', class_ = 'inventory clearfix margin-bottom-20 styled_input')\n",
    "len(audi_containers)\n"
   ]
  },
  {
   "cell_type": "code",
   "execution_count": 8,
   "metadata": {},
   "outputs": [
    {
     "data": {
      "text/plain": [
       "'Audi R8 V10 plus 5.2 FSI quattro'"
      ]
     },
     "execution_count": 8,
     "metadata": {},
     "output_type": "execute_result"
    }
   ],
   "source": [
    "#getting the text\n",
    "first_container = audi_containers[0]\n",
    "text = first_container.find('div', class_ = \"title\").text\n",
    "text"
   ]
  },
  {
   "cell_type": "code",
   "execution_count": 9,
   "metadata": {},
   "outputs": [
    {
     "data": {
      "text/plain": [
       "'https://weckautos.com/wp-content/uploads/2019/09/45-5-13-200x150.jpg'"
      ]
     },
     "execution_count": 9,
     "metadata": {},
     "output_type": "execute_result"
    }
   ],
   "source": [
    "#getting the URL to the imagei\n",
    "image  = first_container.find('img', class_ = 'preview')['src']\n",
    "image"
   ]
  },
  {
   "cell_type": "code",
   "execution_count": 10,
   "metadata": {},
   "outputs": [
    {
     "data": {
      "text/plain": [
       "'https://weckautos.com/listings/audi-r8-v10-plus-5-2-fsi-quattro/'"
      ]
     },
     "execution_count": 10,
     "metadata": {},
     "output_type": "execute_result"
    }
   ],
   "source": [
    "#getting the exact url of the post\n",
    "url_of_post = first_container.find('a', class_ = 'inventory')['href']\n",
    "url_of_post"
   ]
  },
  {
   "cell_type": "code",
   "execution_count": 11,
   "metadata": {},
   "outputs": [
    {
     "data": {
      "text/plain": [
       "'Highlighted by its iconic styling and unusually accessible performance, the 2016 Audi R8 maintains its special status as a midengi [...]'"
      ]
     },
     "execution_count": 11,
     "metadata": {},
     "output_type": "execute_result"
    }
   ],
   "source": [
    "#getting the description of the post\n",
    "desc = first_container.find('p', class_ = 'vehicle_overview').text\n",
    "desc"
   ]
  },
  {
   "cell_type": "code",
   "execution_count": 15,
   "metadata": {},
   "outputs": [
    {
     "data": {
      "text/plain": [
       "22"
      ]
     },
     "execution_count": 15,
     "metadata": {},
     "output_type": "execute_result"
    }
   ],
   "source": [
    "text = html_text.find_all('div', class_ = \"title\")\n",
    "len(text)"
   ]
  },
  {
   "cell_type": "code",
   "execution_count": 12,
   "metadata": {},
   "outputs": [
    {
     "data": {
      "text/plain": [
       "dict_keys(['Audi R8 V10 plus 5.2 FSI quattro', 'Audi A8 55TFSI quattro', 'Audi A8 55TFSI', 'Audi A8 55TFSI quattro tiptronic with Massage', 'Audi Q8 55TFSI HDMATRIX', 'Audi Q7 45 TFSI quattro', 'Audi A7 55 TFSI q. 2xS-Line', 'Audi A7 55 TFSI', 'Audi S7 4.0 TFSI quattro S tronic', 'Audi RS 5 Sportback', 'Audi A7 55 TFSI Hybrid quattro S tronic', 'Audi A7 55 TFSI quattro*S line*Led', 'Audi SQ8 TDI Quattro Tiptronic HeadUp', 'Audi R8 V10 Performance', 'Audi R8 V10 plus 5.2 FSI', 'Audi RS7 Spb. 4.0 TFSI DYNAMIK PLUS/HEAD-UP/ACC', 'Audi RS 7 Sportback 4.0 TFSI Perf/KERAMIK', 'Audi RS Q8 qu tiptr Keramik B&O HuD Matrix LED', 'The Audi RS6 4.0 TFSI', 'Audi RS 4 + ABT KERAMIK/PANORAMA/ACC'])"
      ]
     },
     "execution_count": 12,
     "metadata": {},
     "output_type": "execute_result"
    }
   ],
   "source": [
    "#now design the database for the Audis\n",
    "audi_url = \"https://weckautos.com/wide-fullwidth/?yr%5B%5D=&yr%5B%5D=&make=audi&price%5B%5D=&price%5B%5D=\"\n",
    "response = get(audi_url)\n",
    "html_text = BeautifulSoup(response.text, 'html.parser')\n",
    "audi_containers = html_text.find_all('div', class_ = 'inventory clearfix margin-bottom-20 styled_input')\n",
    "\n",
    "audi_dataset = {}\n",
    "names_of_cars = []\n",
    "links_to_images = []\n",
    "url_of_car = []\n",
    "desc_of_car = []\n",
    "\n",
    "for container in audi_containers:\n",
    "    \n",
    "    temp_dict = {}\n",
    "    \n",
    "    #getting their full names\n",
    "    text = str(container.find('div', class_ = \"title\").text)\n",
    "    \n",
    "    #getting the image \n",
    "    image = str(container.find('img', class_ = 'preview')['src'])\n",
    "    temp_dict[\"Image URL\"] = image\n",
    "    \n",
    "    \n",
    "    #getting the url of the car\n",
    "    url = str(container.find('a', class_ = 'inventory')['href'])\n",
    "    temp_dict[\"URL to the car\"] = url\n",
    "    \n",
    "    \n",
    "    #getting the desc of the car\n",
    "    desc = str(container.find('p', class_ = 'vehicle_overview').text)\n",
    "    temp_dict[\"Description of Car\"] = desc\n",
    "    \n",
    "    audi_dataset[text] = temp_dict\n",
    "\n",
    "audi_dataset.keys()"
   ]
  },
  {
   "cell_type": "code",
   "execution_count": 19,
   "metadata": {},
   "outputs": [],
   "source": [
    "# with open('audi_set.json', 'w') as fp:\n",
    "#     json.dump(audi_containers, fp)\n",
    "\n",
    "# j = json.dumps(audi_dataset, indent=4)\n",
    "# f = open('sample.json', 'w')\n",
    "# print >> f, j\n",
    "# f.close()\n",
    "doubleQString = \"{0}\".format({'Audi R8 V10 plus 5.2 FSI quattro': {'Image URL': 'https://weckautos.com/wp-content/uploads/2019/09/45-5-13-200x150.jpg',\n",
    "  'URL to the car': 'https://weckautos.com/listings/audi-r8-v10-plus-5-2-fsi-quattro/',\n",
    "  'Description of Car': 'Highlighted by its iconic styling and unusually accessible performance, the 2016 Audi R8 maintains its special status as a midengi [...]'},\n",
    " 'Audi A8 55TFSI quattro': {'Image URL': 'https://weckautos.com/wp-content/uploads/2019/09/45-2-17-200x150.jpg',\n",
    "  'URL to the car': 'https://weckautos.com/listings/audi-a8-55tfsi-quattro/',\n",
    "  'Description of Car': 'Redesigned for 2019, the A8 signals all sorts of changes for Audi. With a new infotainment interface, more advanced safety feature [...]'},\n",
    " 'Audi A8 55TFSI': {'Image URL': 'https://weckautos.com/wp-content/uploads/2019/09/57-2-24-200x150.jpg',\n",
    "  'URL to the car': 'https://weckautos.com/listings/audi-a8-55tfsi-2/',\n",
    "  'Description of Car': 'Other German luxury sedans have endeavored to be flashier and more opulent in recent years, wowing and often overwhelming occupant [...]'},\n",
    " 'Audi A8 55TFSI quattro tiptronic with Massage': {'Image URL': 'https://weckautos.com/wp-content/uploads/2019/09/45-23-5-200x150.jpg',\n",
    "  'URL to the car': 'https://weckautos.com/listings/audi-a8-55tfsi-quattro-tiptronic-with-massage/',\n",
    "  'Description of Car': \"The AUDI A8 include many of Audi's newest and most high-tech safety features such as Pre Sense Plus, Pre Sense Rear and Pre Sense  [...]\"},\n",
    " 'Audi Q8 55TFSI HDMATRIX': {'Image URL': 'https://weckautos.com/wp-content/uploads/2019/09/57-16-4-200x150.jpg',\n",
    "  'URL to the car': 'https://weckautos.com/listings/audi-q8-55tfsi-hdmatrix/',\n",
    "  'Description of Car': 'The Q8 \\xa055TFSI HDMATRIX splits the difference between the traditional SUV and the stylish and trendy \"coupe\" SUVs. It\\'s a decent  [...]'},\n",
    " 'Audi Q7 45 TFSI quattro': {'Image URL': 'https://weckautos.com/wp-content/uploads/2019/09/57-2-14-200x150.jpg',\n",
    "  'URL to the car': 'https://weckautos.com/listings/audi-q7-45-tfsi-quattro/',\n",
    "  'Description of Car': 'The Audi Q7 is a strong performer in the three-row luxury crossover class thanks to the power and torque of its supercharged 3.0-l [...]'},\n",
    " 'Audi A7 55 TFSI q. 2xS-Line': {'Image URL': 'https://weckautos.com/wp-content/uploads/2019/09/57-2-15-200x150.jpg',\n",
    "  'URL to the car': 'https://weckautos.com/listings/audi-a7-55-tfsi-q-2xs-line/',\n",
    "  'Description of Car': 'Bigger and more comfortable than a true sport sedan, the A7 is a capable and confidence-inspiring luxury sedan that excels at long [...]'},\n",
    " 'Audi A7 55 TFSI': {'Image URL': 'https://weckautos.com/wp-content/uploads/2019/09/57-2-44-200x150.jpg',\n",
    "  'URL to the car': 'https://weckautos.com/listings/audi-a7-55-tfsi-2/',\n",
    "  'Description of Car': 'The 2018 Audi A7 is a midsize luxury car with a hatchback cargo area (Audi dubs this body style a “Sportback”). There are two  [...]'},\n",
    " 'Audi S7 4.0 TFSI quattro S tronic': {'Image URL': 'https://weckautos.com/wp-content/uploads/2019/10/57-200x150.jpg',\n",
    "  'URL to the car': 'https://weckautos.com/listings/audi-s7-4-0-tfsi-quattro-s-tronic/',\n",
    "  'Description of Car': \"Sharp style means the 2016 Audi S7 could get by on looks alone. But that's just the tip of what this striking sedan offers. You'll [...]\"},\n",
    " 'Audi RS 5 Sportback': {'Image URL': 'https://weckautos.com/wp-content/uploads/2019/10/57-19-200x150.jpg',\n",
    "  'URL to the car': 'https://weckautos.com/listings/audi-rs-5-sportback-331/',\n",
    "  'Description of Car': 'The RS 5 delivers massive acceleration, incredible grip and sharp steering. Thanks to selectable drive modes and an adjustable sus [...]'},\n",
    " 'Audi A7 55 TFSI Hybrid quattro S tronic': {'Image URL': 'https://weckautos.com/wp-content/uploads/2020/01/57-2-26-200x150.jpg',\n",
    "  'URL to the car': 'https://weckautos.com/listings/audi-a7-55-tfsi-hybrid-quattro-s-tronic/',\n",
    "  'Description of Car': 'Audi A7 55 TFSI Hybrid quattro S tronic '},\n",
    " 'Audi A7 55 TFSI quattro*S line*Led': {'Image URL': 'https://weckautos.com/wp-content/uploads/2020/01/57-49-200x150.jpg',\n",
    "  'URL to the car': 'https://weckautos.com/listings/audi-a7-55-tfsi-quattros-lineled/',\n",
    "  'Description of Car': 'Audi A7 55 TFSI quattro '},\n",
    " 'Audi SQ8 TDI Quattro Tiptronic HeadUp': {'Image URL': 'https://weckautos.com/wp-content/uploads/2020/01/57-13-8-200x150.jpg',\n",
    "  'URL to the car': 'https://weckautos.com/listings/audi-sq8-tdi-quattro-tiptronic-headup/',\n",
    "  'Description of Car': 'Audi SQ8 TDI Quattro '},\n",
    " 'Audi R8 V10 Performance': {'Image URL': 'https://weckautos.com/wp-content/uploads/2020/01/57-44-200x150.jpg',\n",
    "  'URL to the car': 'https://weckautos.com/listings/audi-r8-v10-performance/',\n",
    "  'Description of Car': \"For 2019, the R8's appearance is slightly more angular up front, but there's still no mistaking it for anything but an R8. The any [...]\"},\n",
    " 'Audi R8 V10 plus 5.2 FSI': {'Image URL': 'https://weckautos.com/wp-content/uploads/2020/01/57-2-19-200x150.jpg',\n",
    "  'URL to the car': 'https://weckautos.com/listings/audi-r8-v10-plus-5-2-fsi/',\n",
    "  'Description of Car': 'The 2017 Audi R8 is a two-seat midengine exotic sports car offered in coupe form only. There are two trim levels: V10 and V10 Plus [...]'},\n",
    " 'Audi RS7 Spb. 4.0 TFSI DYNAMIK PLUS/HEAD-UP/ACC': {'Image URL': 'https://weckautos.com/wp-content/uploads/2020/01/57-34-200x150.jpg',\n",
    "  'URL to the car': 'https://weckautos.com/listings/audi-rs7-spb-4-0-tfsi-dynamik-plus-head-up-acc/',\n",
    "  'Description of Car': '\\r\\nThe 560-hp RS 7 was already one of the quickest sedans in the world, and the 605-hp RS 7 Performance raises the bar further. It  [...]'},\n",
    " 'Audi RS 7 Sportback 4.0 TFSI Perf/KERAMIK': {'Image URL': 'https://weckautos.com/wp-content/uploads/2020/01/57-35-200x150.jpg',\n",
    "  'URL to the car': 'https://weckautos.com/listings/audi-rs-7-sportback-4-0-tfsi-perf-keramik/',\n",
    "  'Description of Car': \"Can a luxury sedan really accelerate to 60 mph in just 3.4 seconds? If it's the 2018 Audi RS 7, most certainly. And that's the reg [...]\"},\n",
    " 'Audi RS Q8 qu tiptr Keramik B&O HuD Matrix LED': {'Image URL': 'https://weckautos.com/wp-content/uploads/2020/01/57-3-11-200x150.jpg',\n",
    "  'URL to the car': 'https://weckautos.com/listings/audi-rs-q8-qu-tiptr-keramik-bo-hud-matrix-led/',\n",
    "  'Description of Car': 'Audi says the 600-hp RS Q8 should beat the Porsche Cayenne Turbo in a drag race — Audi predicts a 3.8-second 0-100 kph (0-62 mph [...]'},\n",
    " 'The Audi RS6 4.0 TFSI': {'Image URL': 'https://weckautos.com/wp-content/uploads/2020/01/57-7-11-200x150.jpg',\n",
    "  'URL to the car': 'https://weckautos.com/listings/audi-new-audi-rs6-4-0-tfsi/',\n",
    "  'Description of Car': 'The 2020 Audi RS 6 Avant is a super-hot wagon with a 4.0-liter twin-turbo V8 stuffed under the hood to help make up for the extra  [...]'},\n",
    " 'Audi RS 4 + ABT KERAMIK/PANORAMA/ACC': {'Image URL': 'https://weckautos.com/wp-content/uploads/2020/01/57-38-200x150.jpg',\n",
    "  'URL to the car': 'https://weckautos.com/listings/audi-rs-4-abt-keramik-panorama-acc/',\n",
    "  'Description of Car': 'The Audi RS4 Avant has long been at the spot of the rapid wagon set, and while its updated turbocharged V6 engine represents a cha [...]'}})\n",
    "with open('sampledict.json','w') as f:\n",
    "    json.dump(doubleQString ,f)"
   ]
  },
  {
   "cell_type": "code",
   "execution_count": null,
   "metadata": {},
   "outputs": [],
   "source": []
  },
  {
   "cell_type": "code",
   "execution_count": 6,
   "metadata": {},
   "outputs": [
    {
     "data": {
      "text/plain": [
       "25"
      ]
     },
     "execution_count": 6,
     "metadata": {},
     "output_type": "execute_result"
    }
   ],
   "source": [
    "#now design the database for the Audis\n",
    "\n",
    "bmw_url = \"https://weckautos.com/wide-fullwidth/?yr%5B%5D=&yr%5B%5D=&make=bmw&price%5B%5D=&price%5B%5D=\"\n",
    "response = get(bmw_url)\n",
    "html_text = BeautifulSoup(response.text, 'html.parser')\n",
    "bmw_containers = html_text.find_all('div', class_ = 'inventory clearfix margin-bottom-20 styled_input')\n",
    "\n",
    "bmw_dataset = {}\n",
    "names_of_cars = []\n",
    "links_to_images = []\n",
    "url_of_car = []\n",
    "desc_of_car = []\n",
    "\n",
    "for container in bmw_containers:\n",
    "    \n",
    "    temp_dict = {}\n",
    "    \n",
    "    #getting their full names\n",
    "    text = container.find('div', class_ = \"title\").text\n",
    "    \n",
    "    #getting the image \n",
    "    image = container.find('img', class_ = 'preview')['src']\n",
    "    temp_dict[\"Image URL\"] = image\n",
    "    \n",
    "    \n",
    "    #getting the url of the car\n",
    "    url = container.find('a', class_ = 'inventory')['href']\n",
    "    temp_dict[\"URL to the car\"] = url\n",
    "    \n",
    "    \n",
    "    #getting the desc of the car\n",
    "    desc = container.find('p', class_ = 'vehicle_overview').text\n",
    "    temp_dict[\"Description of Car\"] = desc\n",
    "    \n",
    "    bmw_dataset[text] = temp_dict\n",
    "\n",
    "bmw_dataset.keys()"
   ]
  },
  {
   "cell_type": "code",
   "execution_count": 7,
   "metadata": {},
   "outputs": [
    {
     "data": {
      "text/plain": [
       "{'BMW X6 M 2 HD': {'Image URL': 'https://weckautos.com/wp-content/uploads/2019/09/57-3-44-200x150.jpg',\n",
       "  'URL to the car': 'https://weckautos.com/listings/bmw-x6-m-2-hd/',\n",
       "  'Description of Car': 'Sports cars and SUVs are not often mentioned in the same sentence, other than to illustrate how wide a net the word \"car\" can cast [...]'},\n",
       " 'BMW X7 40i': {'Image URL': 'https://weckautos.com/wp-content/uploads/2019/09/45-2-1-200x150.jpg',\n",
       "  'URL to the car': 'https://weckautos.com/listings/bmw-x7-40i/',\n",
       "  'Description of Car': 'If you know anything about BMW, you know that by the time you hit the sevens, you expect luxury in massive doses. '},\n",
       " 'BMW 750Li xDrive Fond': {'Image URL': 'https://weckautos.com/wp-content/uploads/2019/09/45-4-2-200x150.jpg',\n",
       "  'URL to the car': 'https://weckautos.com/listings/bmw-750li-xdrive-fond/',\n",
       "  'Description of Car': \"The 7 Series' standard long wheelbase affords truly copious rear legroom and is complemented by an unprecedented array of rear-sea [...]\"},\n",
       " 'BMW 760M Li xDrive Sport': {'Image URL': 'https://weckautos.com/wp-content/uploads/2019/09/45-4-4-200x150.jpg',\n",
       "  'URL to the car': 'https://weckautos.com/listings/bmw-760m-li-xdrive-sport/',\n",
       "  'Description of Car': 'Engine: 6.6-litre, V12 twin-turbo petrol\\r\\nTransmission: 8-speed automatic\\r\\nPower: 448 kW\\r\\nTorque: 800 Nm\\r\\nFuel consumption: 12.8\\xa0 [...]'},\n",
       " 'BMW X6 M': {'Image URL': 'https://weckautos.com/wp-content/uploads/2019/09/45-4-12-200x150.jpg',\n",
       "  'URL to the car': 'https://weckautos.com/listings/bmw-x6-m-3/',\n",
       "  'Description of Car': 'In spite of its diametrically opposed inspirations, the 2018 BMW X6 M combines practicality and performance in a surprisingly effe [...]'},\n",
       " 'BMW 740Li': {'Image URL': 'https://weckautos.com/wp-content/uploads/2019/09/45-5-7-200x150.jpg',\n",
       "  'URL to the car': 'https://weckautos.com/listings/bmw-740li/',\n",
       "  'Description of Car': 'Out in the wild, the 2017 BMW 7 Series is a more capable handler than its size suggests, if not a full-fledged performance car lik [...]'},\n",
       " 'BMW X6 M GLASDACH': {'Image URL': 'https://weckautos.com/wp-content/uploads/2019/09/45-48-200x150.jpg',\n",
       "  'URL to the car': 'https://weckautos.com/listings/bmw-x6-m-glasdach/',\n",
       "  'Description of Car': 'In spite of its diametrically opposed inspirations, the 2018 BMW X6 M combines practicality and performance in a surprisingly effe [...]'},\n",
       " 'BMW X7 xDrive40i M Sport': {'Image URL': 'https://weckautos.com/wp-content/uploads/2019/09/45-3-20-200x150.jpg',\n",
       "  'URL to the car': 'https://weckautos.com/listings/bmw-x7-xdrive40i-m-sport/',\n",
       "  'Description of Car': 'In recent years, BMW has been expanding its roster with supplemental niche models, such as four-door \"coupes\" based on traditional [...]'},\n",
       " 'BMW 750i xD': {'Image URL': 'https://weckautos.com/wp-content/uploads/2019/09/57-18-5-200x150.jpg',\n",
       "  'URL to the car': 'https://weckautos.com/listings/bmw-750i-xd/',\n",
       "  'Description of Car': '\\r\\n \\tWith a plug-in hybrid model in the pipeline, the 2017 BMW 7 Series solidifies its premier position among large luxury sedans.\\r [...]'},\n",
       " 'BMW M2 Competition Coupé': {'Image URL': 'https://weckautos.com/wp-content/uploads/2019/09/57-15-10-200x150.jpg',\n",
       "  'URL to the car': 'https://weckautos.com/listings/bmw-m2-competition-coupe/',\n",
       "  'Description of Car': \"The M2 is the highest-performing variant of the BMW 2 Series, and it's designed especially for people who love to drive. It's smal [...]\"},\n",
       " 'BMW M2 Competition DKG': {'Image URL': 'https://weckautos.com/wp-content/uploads/2019/09/57-45-200x150.jpg',\n",
       "  'URL to the car': 'https://weckautos.com/listings/bmw-m2-competition-dkg/',\n",
       "  'Description of Car': 'The M2 is the highest-performing variant of the BMW 2 Series, and it’s designed especially for people who love to drive. It’s  [...]'},\n",
       " 'BMW X7 xDrive40i M': {'Image URL': 'https://weckautos.com/wp-content/uploads/2019/09/57-2-18-200x150.jpg',\n",
       "  'URL to the car': 'https://weckautos.com/listings/bmw-x7-xdrive40i-m/',\n",
       "  'Description of Car': 'If you know anything about BMW, you know that by the time you hit the sevens, you expect luxury in massive doses. '},\n",
       " 'BMW X4M Competion': {'Image URL': 'https://weckautos.com/wp-content/uploads/2019/09/57-2-34-200x150.jpg',\n",
       "  'URL to the car': 'https://weckautos.com/listings/bmw-x4m-competion/',\n",
       "  'Description of Car': 'The\\xa0BMW X4M Competion '},\n",
       " 'BMW X4 xDrive20i': {'Image URL': 'https://weckautos.com/wp-content/uploads/2019/09/57-12-26-200x150.jpg',\n",
       "  'URL to the car': 'https://weckautos.com/listings/bmw-x4-xdrive20i/',\n",
       "  'Description of Car': ' '},\n",
       " 'BMW M760Li xDrive, B & Wilkins': {'Image URL': 'https://weckautos.com/wp-content/uploads/2019/10/57-2-9-200x150.jpg',\n",
       "  'URL to the car': 'https://weckautos.com/listings/bmw-m760li-xdrive-b-wilkins/',\n",
       "  'Description of Car': 'The 2017 BMW 7 Series comes standard with antilock brakes, traction and stability control, front side airbags, full-length side cu [...]'},\n",
       " 'BMW X6M': {'Image URL': 'https://weckautos.com/wp-content/uploads/2019/10/57-13-11-200x150.jpg',\n",
       "  'URL to the car': 'https://weckautos.com/listings/bmw-x6m/',\n",
       "  'Description of Car': 'The M badge, reserved for BMW’s high-octane sports cars, is no marketing bull. The 567-horsepower V8 is estimated to propel the  [...]'},\n",
       " 'BMW X5 M': {'Image URL': 'https://weckautos.com/wp-content/uploads/2019/10/57-9-15-200x150.jpg',\n",
       "  'URL to the car': 'https://weckautos.com/listings/bmw-x5-m/',\n",
       "  'Description of Car': \"The BMW X5 M is available in only one feature-loaded trim, so there's not much to recommend. This is a BMW, however, so there are  [...]\"},\n",
       " 'BMW X7 xDrive30d': {'Image URL': 'https://weckautos.com/wp-content/uploads/2019/10/57-5-17-200x150.jpg',\n",
       "  'URL to the car': 'https://weckautos.com/listings/bmw-x7-xdrive30d/',\n",
       "  'Description of Car': 'xDrive30d Pure Excellence Individual '},\n",
       " 'BMW 750i xDrive - M-Paket, Laser, HUD': {'Image URL': 'https://weckautos.com/wp-content/uploads/2019/11/57-2-6-200x150.jpg',\n",
       "  'URL to the car': 'https://weckautos.com/listings/bmw-750i-xdrive-m-paket-laser-hud/',\n",
       "  'Description of Car': 'The 2016 BMW 7 Series is a full-size luxury sedan offered in 740i and 750i xDrive trims as of this writing. It comes in a single w [...]'},\n",
       " 'BMW Baureihe 7 750i xDrive Navi,Leder,Kamera,Massage': {'Image URL': 'https://weckautos.com/wp-content/uploads/2019/11/57-2-7-200x150.jpg',\n",
       "  'URL to the car': 'https://weckautos.com/listings/bmw-baureihe-7-750i-xdrive-navilederkameramassage/',\n",
       "  'Description of Car': 'The 2016 BMW 7 Series is a full-size luxury sedan offered in 740i and 750i xDrive trims as of this writing. It comes in a single w [...]'},\n",
       " 'BMW X7 xDrive40i M Sport,LASER,Harman,HUD': {'Image URL': 'https://weckautos.com/wp-content/uploads/2019/12/57-11-200x150.jpg',\n",
       "  'URL to the car': 'https://weckautos.com/listings/bmw-x7-xdrive40i-m-sportlaserharmanhud/',\n",
       "  'Description of Car': 'THE X7 Xdrive40i M Sport '},\n",
       " 'BMW M850i xDrive GC Bowers & Wilkins Panorama': {'Image URL': 'https://weckautos.com/wp-content/uploads/2020/01/57-14-200x150.jpg',\n",
       "  'URL to the car': 'https://weckautos.com/listings/bmw-m850i-xdrive-gc-bowers-wilkins-panorama/',\n",
       "  'Description of Car': 'The original BMW 8 Series debuted in the 1990s. This sleek coupe stood out among the already aspirational competition, even if it  [...]'},\n",
       " 'BMW M760Li xDive V12 VIP Executive Lounge': {'Image URL': 'https://weckautos.com/wp-content/uploads/2020/01/57-2-3-200x150.jpg',\n",
       "  'URL to the car': 'https://weckautos.com/listings/bmw-m760li-xdive-v12-vip-executive-lounge/',\n",
       "  'Description of Car': \"Big luxury sedans are the ultimate expression of the luxury car ethos, offering every trick in an automaker's bag. You can expect  [...]\"},\n",
       " 'BMW X7 xDrive30d Pure Excellence': {'Image URL': 'https://weckautos.com/wp-content/uploads/2020/01/57-15-1-200x150.jpg',\n",
       "  'URL to the car': 'https://weckautos.com/listings/bmw-x7-xdrive30d-pure-excellence/',\n",
       "  'Description of Car': 'The X7 separates itself from the current full size SUV’s with a third row. It has a fresh design keeping in mind the BMW heritag [...]'},\n",
       " 'BMW 750Ld xDrive Fond Entertainm/Panorama': {'Image URL': 'https://weckautos.com/wp-content/uploads/2020/01/57-3-2-1-200x150.jpg',\n",
       "  'URL to the car': 'https://weckautos.com/listings/bmw-750ld-xdrive-fond-entertainm-panorama/',\n",
       "  'Description of Car': 'The 2018 BMW 7 Series is available with four different engines, all of which make use of an eight-speed automatic transmission. De [...]'}}"
      ]
     },
     "execution_count": 7,
     "metadata": {},
     "output_type": "execute_result"
    }
   ],
   "source": []
  },
  {
   "cell_type": "code",
   "execution_count": 21,
   "metadata": {},
   "outputs": [
    {
     "data": {
      "text/plain": [
       "3"
      ]
     },
     "execution_count": 21,
     "metadata": {},
     "output_type": "execute_result"
    }
   ],
   "source": [
    "#now design the database for the Audis\n",
    "\n",
    "bentley_url = \"https://weckautos.com/wide-fullwidth/?yr%5B%5D=&yr%5B%5D=&make=bentley&price%5B%5D=&price%5B%5D=\"\n",
    "response = get(bentley_url)\n",
    "html_text = BeautifulSoup(response.text, 'html.parser')\n",
    "bentley_containers = html_text.find_all('div', class_ = 'inventory clearfix margin-bottom-20 styled_input')\n",
    "\n",
    "bentley_dataset = {}\n",
    "names_of_cars = []\n",
    "links_to_images = []\n",
    "url_of_car = []\n",
    "desc_of_car = []\n",
    "\n",
    "for container in bentley_containers:\n",
    "    \n",
    "    temp_dict = {}\n",
    "    \n",
    "    #getting their full names\n",
    "    text = container.find('div', class_ = \"title\").text\n",
    "    \n",
    "    #getting the image \n",
    "    image = container.find('img', class_ = 'preview')['src']\n",
    "    temp_dict[\"Image URL\"] = image\n",
    "    \n",
    "    \n",
    "    #getting the url of the car\n",
    "    url = container.find('a', class_ = 'inventory')['href']\n",
    "    temp_dict[\"URL to the car\"] = url\n",
    "    \n",
    "    \n",
    "    #getting the desc of the car\n",
    "    desc = container.find('p', class_ = 'vehicle_overview').text\n",
    "    temp_dict[\"Description of Car\"] = desc\n",
    "    \n",
    "    bentley_dataset[text] = temp_dict\n",
    "\n",
    "len(bentley_dataset.keys())"
   ]
  },
  {
   "cell_type": "code",
   "execution_count": 23,
   "metadata": {},
   "outputs": [
    {
     "data": {
      "text/plain": [
       "3"
      ]
     },
     "execution_count": 23,
     "metadata": {},
     "output_type": "execute_result"
    }
   ],
   "source": [
    "#now design the database for the Audis\n",
    "\n",
    "ferrari_url = \"https://weckautos.com/wide-fullwidth/?yr%5B%5D=&yr%5B%5D=&make=ferrari&price%5B%5D=&price%5B%5D=\"\n",
    "response = get(ferrari_url)\n",
    "html_text = BeautifulSoup(response.text, 'html.parser')\n",
    "ferrari_containers = html_text.find_all('div', class_ = 'inventory clearfix margin-bottom-20 styled_input')\n",
    "\n",
    "ferrari_dataset = {}\n",
    "names_of_cars = []\n",
    "links_to_images = []\n",
    "url_of_car = []\n",
    "desc_of_car = []\n",
    "\n",
    "for container in ferrari_containers:\n",
    "    \n",
    "    temp_dict = {}\n",
    "    \n",
    "    #getting their full names\n",
    "    text = container.find('div', class_ = \"title\").text\n",
    "    \n",
    "    #getting the image \n",
    "    image = container.find('img', class_ = 'preview')['src']\n",
    "    temp_dict[\"Image URL\"] = image\n",
    "    \n",
    "    \n",
    "    #getting the url of the car\n",
    "    url = container.find('a', class_ = 'inventory')['href']\n",
    "    temp_dict[\"URL to the car\"] = url\n",
    "    \n",
    "    \n",
    "    #getting the desc of the car\n",
    "    desc = container.find('p', class_ = 'vehicle_overview').text\n",
    "    temp_dict[\"Description of Car\"] = desc\n",
    "    \n",
    "    ferrari_dataset[text] = temp_dict\n",
    "\n",
    "len(ferrari_dataset.keys())"
   ]
  },
  {
   "cell_type": "code",
   "execution_count": 24,
   "metadata": {},
   "outputs": [
    {
     "data": {
      "text/plain": [
       "5"
      ]
     },
     "execution_count": 24,
     "metadata": {},
     "output_type": "execute_result"
    }
   ],
   "source": [
    "land_rover_containers = html_text.find_all('div', class_ = 'inventory clearfix margin-bottom-20 styled_input')\n",
    "#now design the database for the Audis\n",
    "\n",
    "land_rover_url = \"https://weckautos.com/wide-fullwidth/?yr%5B%5D=&yr%5B%5D=&make=land-rover&price%5B%5D=&price%5B%5D=\"\n",
    "response = get(land_rover_url)\n",
    "html_text = BeautifulSoup(response.text, 'html.parser')\n",
    "land_rover_containers = html_text.find_all('div', class_ = 'inventory clearfix margin-bottom-20 styled_input')\n",
    "\n",
    "land_rover_dataset = {}\n",
    "names_of_cars = []\n",
    "links_to_images = []\n",
    "url_of_car = []\n",
    "desc_of_car = []\n",
    "\n",
    "for container in land_rover_containers:\n",
    "    \n",
    "    temp_dict = {}\n",
    "    \n",
    "    #getting their full names\n",
    "    text = container.find('div', class_ = \"title\").text\n",
    "    \n",
    "    #getting the image \n",
    "    image = container.find('img', class_ = 'preview')['src']\n",
    "    temp_dict[\"Image URL\"] = image\n",
    "    \n",
    "    \n",
    "    #getting the url of the car\n",
    "    url = container.find('a', class_ = 'inventory')['href']\n",
    "    temp_dict[\"URL to the car\"] = url\n",
    "    \n",
    "    \n",
    "    #getting the desc of the car\n",
    "    desc = container.find('p', class_ = 'vehicle_overview').text\n",
    "    temp_dict[\"Description of Car\"] = desc\n",
    "    \n",
    "    land_rover_dataset[text] = temp_dict\n",
    "\n",
    "len(land_rover_dataset.keys())"
   ]
  },
  {
   "cell_type": "code",
   "execution_count": 26,
   "metadata": {},
   "outputs": [
    {
     "data": {
      "text/plain": [
       "5"
      ]
     },
     "execution_count": 26,
     "metadata": {},
     "output_type": "execute_result"
    }
   ],
   "source": [
    "#now design the database for the Audis\n",
    "\n",
    "mini_url = \"https://weckautos.com/wide-fullwidth/?yr%5B%5D=&yr%5B%5D=&make=mini&price%5B%5D=&price%5B%5D=\"\n",
    "response = get(mini_url)\n",
    "html_text = BeautifulSoup(response.text, 'html.parser')\n",
    "mini_containers = html_text.find_all('div', class_ = 'inventory clearfix margin-bottom-20 styled_input')\n",
    "\n",
    "mini_dataset = {}\n",
    "names_of_cars = []\n",
    "links_to_images = []\n",
    "url_of_car = []\n",
    "desc_of_car = []\n",
    "\n",
    "for container in mini_containers:\n",
    "    \n",
    "    temp_dict = {}\n",
    "    \n",
    "    #getting their full names\n",
    "    text = container.find('div', class_ = \"title\").text\n",
    "    \n",
    "    #getting the image \n",
    "    image = container.find('img', class_ = 'preview')['src']\n",
    "    temp_dict[\"Image URL\"] = image\n",
    "    \n",
    "    \n",
    "    #getting the url of the car\n",
    "    url = container.find('a', class_ = 'inventory')['href']\n",
    "    temp_dict[\"URL to the car\"] = url\n",
    "    \n",
    "    \n",
    "    #getting the desc of the car\n",
    "    desc = container.find('p', class_ = 'vehicle_overview').text\n",
    "    temp_dict[\"Description of Car\"] = desc\n",
    "    \n",
    "    mini_dataset[text] = temp_dict\n",
    "\n",
    "len(mini_dataset.keys())"
   ]
  },
  {
   "cell_type": "code",
   "execution_count": 28,
   "metadata": {},
   "outputs": [
    {
     "data": {
      "text/plain": [
       "46"
      ]
     },
     "execution_count": 28,
     "metadata": {},
     "output_type": "execute_result"
    }
   ],
   "source": [
    "#now design the database for the Audis\n",
    "\n",
    "mercedes_benz_url = \"https://weckautos.com/wide-fullwidth/?yr%5B%5D=&yr%5B%5D=&make=mercedes-benz&price%5B%5D=&price%5B%5D=\"\n",
    "response = get(mercedes_benz_url)\n",
    "html_text = BeautifulSoup(response.text, 'html.parser')\n",
    "mercedes_benz_containers = html_text.find_all('div', class_ = 'inventory clearfix margin-bottom-20 styled_input')\n",
    "\n",
    "mercedes_benz_dataset = {}\n",
    "names_of_cars = []\n",
    "links_to_images = []\n",
    "url_of_car = []\n",
    "desc_of_car = []\n",
    "\n",
    "for container in mercedes_benz_containers:\n",
    "    \n",
    "    temp_dict = {}\n",
    "    \n",
    "    #getting their full names\n",
    "    text = container.find('div', class_ = \"title\").text\n",
    "    \n",
    "    #getting the image \n",
    "    image = container.find('img', class_ = 'preview')['src']\n",
    "    temp_dict[\"Image URL\"] = image\n",
    "    \n",
    "    \n",
    "    #getting the url of the car\n",
    "    url = container.find('a', class_ = 'inventory')['href']\n",
    "    temp_dict[\"URL to the car\"] = url\n",
    "    \n",
    "    \n",
    "    #getting the desc of the car\n",
    "    desc = container.find('p', class_ = 'vehicle_overview').text\n",
    "    temp_dict[\"Description of Car\"] = desc\n",
    "    \n",
    "    mercedes_benz_dataset[text] = temp_dict\n",
    "\n",
    "len(mercedes_benz_dataset.keys())"
   ]
  },
  {
   "cell_type": "code",
   "execution_count": 29,
   "metadata": {},
   "outputs": [
    {
     "data": {
      "text/plain": [
       "1"
      ]
     },
     "execution_count": 29,
     "metadata": {},
     "output_type": "execute_result"
    }
   ],
   "source": [
    "#now design the database for the Audis\n",
    "\n",
    "peugeot_url = \"https://weckautos.com/wide-fullwidth/?yr%5B%5D=&yr%5B%5D=&make=peugeot&price%5B%5D=&price%5B%5D=\"\n",
    "response = get(peugeot_url)\n",
    "html_text = BeautifulSoup(response.text, 'html.parser')\n",
    "peugeot_containers = html_text.find_all('div', class_ = 'inventory clearfix margin-bottom-20 styled_input')\n",
    "\n",
    "peugeot_dataset = {}\n",
    "names_of_cars = []\n",
    "links_to_images = []\n",
    "url_of_car = []\n",
    "desc_of_car = []\n",
    "\n",
    "for container in peugeot_containers:\n",
    "    \n",
    "    temp_dict = {}\n",
    "    \n",
    "    #getting their full names\n",
    "    text = container.find('div', class_ = \"title\").text\n",
    "    \n",
    "    #getting the image \n",
    "    image = container.find('img', class_ = 'preview')['src']\n",
    "    temp_dict[\"Image URL\"] = image\n",
    "    \n",
    "    \n",
    "    #getting the url of the car\n",
    "    url = container.find('a', class_ = 'inventory')['href']\n",
    "    temp_dict[\"URL to the car\"] = url\n",
    "    \n",
    "    \n",
    "    #getting the desc of the car\n",
    "    desc = container.find('p', class_ = 'vehicle_overview').text\n",
    "    temp_dict[\"Description of Car\"] = desc\n",
    "    \n",
    "    peugeot_dataset[text] = temp_dict\n",
    "\n",
    "len(peugeot_dataset.keys())"
   ]
  },
  {
   "cell_type": "code",
   "execution_count": 30,
   "metadata": {},
   "outputs": [
    {
     "data": {
      "text/plain": [
       "7"
      ]
     },
     "execution_count": 30,
     "metadata": {},
     "output_type": "execute_result"
    }
   ],
   "source": [
    "#now design the database for the Audis\n",
    "\n",
    "porsche_url = \"https://weckautos.com/wide-fullwidth/?yr%5B%5D=&yr%5B%5D=&make=porsche&price%5B%5D=&price%5B%5D=\"\n",
    "response = get(porsche_url)\n",
    "html_text = BeautifulSoup(response.text, 'html.parser')\n",
    "porsche_containers = html_text.find_all('div', class_ = 'inventory clearfix margin-bottom-20 styled_input')\n",
    "\n",
    "porsche_dataset = {}\n",
    "names_of_cars = []\n",
    "links_to_images = []\n",
    "url_of_car = []\n",
    "desc_of_car = []\n",
    "\n",
    "for container in porsche_containers:\n",
    "    \n",
    "    temp_dict = {}\n",
    "    \n",
    "    #getting their full names\n",
    "    text = container.find('div', class_ = \"title\").text\n",
    "    \n",
    "    #getting the image \n",
    "    image = container.find('img', class_ = 'preview')['src']\n",
    "    temp_dict[\"Image URL\"] = image\n",
    "    \n",
    "    \n",
    "    #getting the url of the car\n",
    "    url = container.find('a', class_ = 'inventory')['href']\n",
    "    temp_dict[\"URL to the car\"] = url\n",
    "    \n",
    "    \n",
    "    #getting the desc of the car\n",
    "    desc = container.find('p', class_ = 'vehicle_overview').text\n",
    "    temp_dict[\"Description of Car\"] = desc\n",
    "    \n",
    "    porsche_dataset[text] = temp_dict\n",
    "\n",
    "len(porsche_dataset.keys())"
   ]
  },
  {
   "cell_type": "code",
   "execution_count": 31,
   "metadata": {},
   "outputs": [
    {
     "data": {
      "text/plain": [
       "10"
      ]
     },
     "execution_count": 31,
     "metadata": {},
     "output_type": "execute_result"
    }
   ],
   "source": [
    "#now design the database for the Audis\n",
    "\n",
    "volkswagen_url = \"https://weckautos.com/wide-fullwidth/?yr%5B%5D=&yr%5B%5D=&make=volkswagen&price%5B%5D=&price%5B%5D=\"\n",
    "response = get(volkswagen_url)\n",
    "html_text = BeautifulSoup(response.text, 'html.parser')\n",
    "volkswagen_containers = html_text.find_all('div', class_ = 'inventory clearfix margin-bottom-20 styled_input')\n",
    "\n",
    "volkswagen_dataset = {}\n",
    "names_of_cars = []\n",
    "links_to_images = []\n",
    "url_of_car = []\n",
    "desc_of_car = []\n",
    "\n",
    "for container in volkswagen_containers:\n",
    "    \n",
    "    temp_dict = {}\n",
    "    \n",
    "    #getting their full names\n",
    "    text = container.find('div', class_ = \"title\").text\n",
    "    \n",
    "    #getting the image \n",
    "    image = container.find('img', class_ = 'preview')['src']\n",
    "    temp_dict[\"Image URL\"] = image\n",
    "    \n",
    "    \n",
    "    #getting the url of the car\n",
    "    url = container.find('a', class_ = 'inventory')['href']\n",
    "    temp_dict[\"URL to the car\"] = url\n",
    "    \n",
    "    \n",
    "    #getting the desc of the car\n",
    "    desc = container.find('p', class_ = 'vehicle_overview').text\n",
    "    temp_dict[\"Description of Car\"] = desc\n",
    "    \n",
    "    volkswagen_dataset[text] = temp_dict\n",
    "\n",
    "len(volkswagen_dataset.keys())"
   ]
  },
  {
   "cell_type": "code",
   "execution_count": 32,
   "metadata": {},
   "outputs": [
    {
     "data": {
      "text/plain": [
       "2"
      ]
     },
     "execution_count": 32,
     "metadata": {},
     "output_type": "execute_result"
    }
   ],
   "source": [
    "#now design the database for the Audis\n",
    "\n",
    "volvo_url = \"https://weckautos.com/wide-fullwidth/?yr%5B%5D=&yr%5B%5D=&make=volvo&price%5B%5D=&price%5B%5D=\"\n",
    "response = get(volvo_url)\n",
    "html_text = BeautifulSoup(response.text, 'html.parser')\n",
    "volvo_containers = html_text.find_all('div', class_ = 'inventory clearfix margin-bottom-20 styled_input')\n",
    "\n",
    "volvo_dataset = {}\n",
    "names_of_cars = []\n",
    "links_to_images = []\n",
    "url_of_car = []\n",
    "desc_of_car = []\n",
    "\n",
    "for container in volvo_containers:\n",
    "    \n",
    "    temp_dict = {}\n",
    "    \n",
    "    #getting their full names\n",
    "    text = container.find('div', class_ = \"title\").text\n",
    "    \n",
    "    #getting the image \n",
    "    image = container.find('img', class_ = 'preview')['src']\n",
    "    temp_dict[\"Image URL\"] = image\n",
    "    \n",
    "    \n",
    "    #getting the url of the car\n",
    "    url = container.find('a', class_ = 'inventory')['href']\n",
    "    temp_dict[\"URL to the car\"] = url\n",
    "    \n",
    "    \n",
    "    #getting the desc of the car\n",
    "    desc = container.find('p', class_ = 'vehicle_overview').text\n",
    "    temp_dict[\"Description of Car\"] = desc\n",
    "    \n",
    "    volvo_dataset[text] = temp_dict\n",
    "\n",
    "len(volvo_dataset.keys())"
   ]
  },
  {
   "cell_type": "code",
   "execution_count": null,
   "metadata": {},
   "outputs": [],
   "source": [
    "#now design the database for the Audis\n",
    "\n",
    "bmw_url = \"https://weckautos.com/wide-fullwidth/?yr%5B%5D=&yr%5B%5D=&make=bmw&price%5B%5D=&price%5B%5D=\"\n",
    "response = get(bmw_url)\n",
    "html_text = BeautifulSoup(response.text, 'html.parser')\n",
    "bmw_containers = html_text.find_all('div', class_ = 'inventory clearfix margin-bottom-20 styled_input')\n",
    "\n",
    "bmw_dataset = {}\n",
    "names_of_cars = []\n",
    "links_to_images = []\n",
    "url_of_car = []\n",
    "desc_of_car = []\n",
    "\n",
    "for container in bmw_containers:\n",
    "    \n",
    "    temp_dict = {}\n",
    "    \n",
    "    #getting their full names\n",
    "    text = container.find('div', class_ = \"title\").text\n",
    "    \n",
    "    #getting the image \n",
    "    image = container.find('img', class_ = 'preview')['src']\n",
    "    temp_dict[\"Image URL\"] = image\n",
    "    \n",
    "    \n",
    "    #getting the url of the car\n",
    "    url = container.find('a', class_ = 'inventory')['href']\n",
    "    temp_dict[\"URL to the car\"] = url\n",
    "    \n",
    "    \n",
    "    #getting the desc of the car\n",
    "    desc = container.find('p', class_ = 'vehicle_overview').text\n",
    "    temp_dict[\"Description of Car\"] = desc\n",
    "    \n",
    "    bmw_dataset[text] = temp_dict\n",
    "\n",
    "len(bmw_dataset.keys())"
   ]
  },
  {
   "cell_type": "code",
   "execution_count": null,
   "metadata": {},
   "outputs": [],
   "source": [
    "#now design the database for the Audis\n",
    "\n",
    "bmw_url = \"https://weckautos.com/wide-fullwidth/?yr%5B%5D=&yr%5B%5D=&make=bmw&price%5B%5D=&price%5B%5D=\"\n",
    "response = get(bmw_url)\n",
    "html_text = BeautifulSoup(response.text, 'html.parser')\n",
    "bmw_containers = html_text.find_all('div', class_ = 'inventory clearfix margin-bottom-20 styled_input')\n",
    "\n",
    "bmw_dataset = {}\n",
    "names_of_cars = []\n",
    "links_to_images = []\n",
    "url_of_car = []\n",
    "desc_of_car = []\n",
    "\n",
    "for container in bmw_containers:\n",
    "    \n",
    "    temp_dict = {}\n",
    "    \n",
    "    #getting their full names\n",
    "    text = container.find('div', class_ = \"title\").text\n",
    "    \n",
    "    #getting the image \n",
    "    image = container.find('img', class_ = 'preview')['src']\n",
    "    temp_dict[\"Image URL\"] = image\n",
    "    \n",
    "    \n",
    "    #getting the url of the car\n",
    "    url = container.find('a', class_ = 'inventory')['href']\n",
    "    temp_dict[\"URL to the car\"] = url\n",
    "    \n",
    "    \n",
    "    #getting the desc of the car\n",
    "    desc = container.find('p', class_ = 'vehicle_overview').text\n",
    "    temp_dict[\"Description of Car\"] = desc\n",
    "    \n",
    "    bmw_dataset[text] = temp_dict\n",
    "\n",
    "len(bmw_dataset.keys())"
   ]
  },
  {
   "cell_type": "code",
   "execution_count": null,
   "metadata": {},
   "outputs": [],
   "source": [
    "#now design the database for the Audis\n",
    "\n",
    "bmw_url = \"https://weckautos.com/wide-fullwidth/?yr%5B%5D=&yr%5B%5D=&make=bmw&price%5B%5D=&price%5B%5D=\"\n",
    "response = get(bmw_url)\n",
    "html_text = BeautifulSoup(response.text, 'html.parser')\n",
    "bmw_containers = html_text.find_all('div', class_ = 'inventory clearfix margin-bottom-20 styled_input')\n",
    "\n",
    "bmw_dataset = {}\n",
    "names_of_cars = []\n",
    "links_to_images = []\n",
    "url_of_car = []\n",
    "desc_of_car = []\n",
    "\n",
    "for container in bmw_containers:\n",
    "    \n",
    "    temp_dict = {}\n",
    "    \n",
    "    #getting their full names\n",
    "    text = container.find('div', class_ = \"title\").text\n",
    "    \n",
    "    #getting the image \n",
    "    image = container.find('img', class_ = 'preview')['src']\n",
    "    temp_dict[\"Image URL\"] = image\n",
    "    \n",
    "    \n",
    "    #getting the url of the car\n",
    "    url = container.find('a', class_ = 'inventory')['href']\n",
    "    temp_dict[\"URL to the car\"] = url\n",
    "    \n",
    "    \n",
    "    #getting the desc of the car\n",
    "    desc = container.find('p', class_ = 'vehicle_overview').text\n",
    "    temp_dict[\"Description of Car\"] = desc\n",
    "    \n",
    "    bmw_dataset[text] = temp_dict\n",
    "\n",
    "len(bmw_dataset.keys())"
   ]
  },
  {
   "cell_type": "code",
   "execution_count": null,
   "metadata": {},
   "outputs": [],
   "source": []
  }
 ],
 "metadata": {
  "kernelspec": {
   "display_name": "Python 3",
   "language": "python",
   "name": "python3"
  },
  "language_info": {
   "codemirror_mode": {
    "name": "ipython",
    "version": 3
   },
   "file_extension": ".py",
   "mimetype": "text/x-python",
   "name": "python",
   "nbconvert_exporter": "python",
   "pygments_lexer": "ipython3",
   "version": "3.7.4"
  }
 },
 "nbformat": 4,
 "nbformat_minor": 2
}
