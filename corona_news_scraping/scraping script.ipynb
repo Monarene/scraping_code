{
 "cells": [
  {
   "cell_type": "code",
   "execution_count": 33,
   "metadata": {},
   "outputs": [],
   "source": [
    "#importing the necessary libraries\n",
    "from requests import get\n",
    "from bs4 import BeautifulSoup\n",
    "import json\n",
    "import csv\n",
    "from datetime import datetime"
   ]
  },
  {
   "cell_type": "code",
   "execution_count": 37,
   "metadata": {},
   "outputs": [
    {
     "name": "stdout",
     "output_type": "stream",
     "text": [
      "<!doctype html><html lang=\"en\"><head><meta charSet\n"
     ]
    }
   ],
   "source": [
    "#preparing the scraper \n",
    "url = \"https://edition.cnn.com/world/live-news/coronavirus-outbreak-03-17-20-intl-hnk/index.html\"\n",
    "response = get(url)\n",
    "print(response.text[:50])"
   ]
  },
  {
   "cell_type": "code",
   "execution_count": 40,
   "metadata": {},
   "outputs": [
    {
     "data": {
      "text/plain": [
       "11"
      ]
     },
     "execution_count": 40,
     "metadata": {},
     "output_type": "execute_result"
    }
   ],
   "source": [
    "html_text = BeautifulSoup(response.text, \"html.parser\")\n",
    "article_containers = html_text.find_all(\"article\")\n",
    "len(article_containers)"
   ]
  },
  {
   "cell_type": "code",
   "execution_count": 44,
   "metadata": {},
   "outputs": [
    {
     "data": {
      "text/plain": [
       "9"
      ]
     },
     "execution_count": 44,
     "metadata": {},
     "output_type": "execute_result"
    }
   ],
   "source": [
    "div_container = html_text.find(\"div\", class_ = \"ls-main _30cc0dc7 _0fe074fa\")\n",
    "article_containers = div_container.find_all(\"article\"n )"
   ]
  },
  {
   "cell_type": "code",
   "execution_count": 16,
   "metadata": {},
   "outputs": [
    {
     "name": "stdout",
     "output_type": "stream",
     "text": [
      "7 hr 49 min ago\n"
     ]
    }
   ],
   "source": [
    "first_article = article_containers[1]\n",
    "time  = first_article.find('span', class_ = \"time-deltastyles__TimeTag-sc-1tyycbg-0 MIlvp\").text\n",
    "print(time)"
   ]
  },
  {
   "cell_type": "code",
   "execution_count": 18,
   "metadata": {},
   "outputs": [
    {
     "name": "stdout",
     "output_type": "stream",
     "text": [
      "Bolivia closes border to curb coronavirus spread\n"
     ]
    }
   ],
   "source": [
    "header = first_article.find(\"h2\", class_ = \"post-headlinestyles__Headline-sc-2ts3cz-1 gzgZOi\").text\n",
    "print(header)"
   ]
  },
  {
   "cell_type": "code",
   "execution_count": 32,
   "metadata": {},
   "outputs": [
    {
     "name": "stdout",
     "output_type": "stream",
     "text": [
      "\n",
      "Bolivia’s borders will be closed due to the ongoing threat of coronavirus, Interim President Jeanine Áñez announced in a statement released by her office on Tuesday.\n",
      "Effective Thursday, only Bolivian citizens and residents may enter the country, the statement said. Travelers entering the country must follow protocols implemented by the Ministry of Health and the World Health Organization.\n",
      "International and national flights will be suspended starting Friday, the statement said. The transportation of goods will still be allowed into Bolivia.\n",
      "In addition to border closures, work days will be shortened and markets will open for limited hours. The measures will be in place until March 31.\n"
     ]
    }
   ],
   "source": [
    "texts = first_article.find_all(\"p\", class_ = \"Text-sc-1amvtpj-0-p render-stellar-contentstyles__Paragraph-sc-9v7nwy-2 fAchMW\")\n",
    "complete_paragraph = \"\"\n",
    "for i in texts:\n",
    "    complete_paragraph = complete_paragraph + \"\\n\" + i.text\n",
    "print(complete_paragraph)"
   ]
  },
  {
   "cell_type": "code",
   "execution_count": 34,
   "metadata": {},
   "outputs": [],
   "source": [
    "#run a loop through al of the data\n",
    "data = []\n",
    "for article in article_containers[1:]:\n",
    "    time  = article.find('span', class_ = \"time-deltastyles__TimeTag-sc-1tyycbg-0 MIlvp\").text\n",
    "    header = article.find(\"h2\", class_ = \"post-headlinestyles__Headline-sc-2ts3cz-1 gzgZOi\").text\n",
    "    texts = article.find_all(\"p\", class_ = \"Text-sc-1amvtpj-0-p render-stellar-contentstyles__Paragraph-sc-9v7nwy-2 fAchMW\")\n",
    "    complete_paragraph = \"\"\n",
    "    for i in texts:\n",
    "        complete_paragraph = complete_paragraph + \"\\n\" + i.text\n",
    "    data.append((time, header, complete_paragraph))"
   ]
  },
  {
   "cell_type": "code",
   "execution_count": 36,
   "metadata": {},
   "outputs": [
    {
     "data": {
      "text/plain": [
       "8"
      ]
     },
     "execution_count": 36,
     "metadata": {},
     "output_type": "execute_result"
    }
   ],
   "source": [
    "len(data)"
   ]
  },
  {
   "cell_type": "code",
   "execution_count": 47,
   "metadata": {},
   "outputs": [],
   "source": [
    "with open(\"cnn.csv\", \"a\") as csv_file:\n",
    "    writer = csv.writer(csv_file)\n",
    "    for time, header, complete_paragraph in data:\n",
    "        writer.writerow([time, header, complete_paragraph, datetime.time, datetime.now()])"
   ]
  },
  {
   "cell_type": "code",
   "execution_count": null,
   "metadata": {},
   "outputs": [],
   "source": [
    "#time to scrap the BBc website\n",
    "url = \"https://www.bbc.com/news/live/world-51903319\"\n",
    "reponse = get(url)\n"
   ]
  }
 ],
 "metadata": {
  "kernelspec": {
   "display_name": "Python 3",
   "language": "python",
   "name": "python3"
  },
  "language_info": {
   "codemirror_mode": {
    "name": "ipython",
    "version": 3
   },
   "file_extension": ".py",
   "mimetype": "text/x-python",
   "name": "python",
   "nbconvert_exporter": "python",
   "pygments_lexer": "ipython3",
   "version": "3.7.4"
  }
 },
 "nbformat": 4,
 "nbformat_minor": 4
}
